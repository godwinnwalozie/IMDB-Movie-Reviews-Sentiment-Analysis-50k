{
  "cells": [
    {
      "cell_type": "markdown",
      "metadata": {
        "colab_type": "text",
        "id": "view-in-github"
      },
      "source": [
        "<a href=\"https://colab.research.google.com/github/godwinnwalozie/IMDB-Movie-Reviews-Sentiment-Analysis-50k/blob/main/sentiment_analysis_sklearn_collab.ipynb\" target=\"_parent\"><img src=\"https://colab.research.google.com/assets/colab-badge.svg\" alt=\"Open In Colab\"/></a>"
      ]
    },
    {
      "cell_type": "markdown",
      "id": "b9e1ee6d-c2bc-4d0f-9b6f-4e0fc318c3ba",
      "metadata": {
        "id": "b9e1ee6d-c2bc-4d0f-9b6f-4e0fc318c3ba"
      },
      "source": [
        "# NLP Tutorial - Sentiment Analysis using Scikit Sklearn Python on IMDB Dataset"
      ]
    },
    {
      "cell_type": "markdown",
      "id": "7c815a04-fca5-4e6f-a126-f3e4d2d2554a",
      "metadata": {
        "id": "7c815a04-fca5-4e6f-a126-f3e4d2d2554a",
        "tags": []
      },
      "source": [
        "# Install Dependencies\n",
        "- pip install git+https://github.com/laxmimerit/preprocess_kgptalkie.git --upgrade --force-reinstall\n",
        "- pip install spacy\n",
        "- from spacy.cli import download  # line 1\n",
        "- download(\"en_core_web_sm\")  - # line 2\n",
        "- pip install beautifulsoup4==4.9.1\n",
        "-  import spacy\n",
        "- from spacy.lang.en.examples import sentences \n",
        "- pip install textblob==0.15.3"
      ]
    },
    {
      "cell_type": "code",
      "execution_count": 1,
      "id": "7f2a6ffd-62cf-4c77-9b15-c9e30c98c6ea",
      "metadata": {
        "id": "7f2a6ffd-62cf-4c77-9b15-c9e30c98c6ea"
      },
      "outputs": [],
      "source": [
        "import pandas as pd\n",
        "import numpy as np\n",
        "import matplotlib.pyplot as plt\n",
        "%matplotlib inline\n",
        "import seaborn as sns\n",
        "import dython.nominal as association\n",
        "from datetime import datetime\n",
        "from dateutil import parser\n",
        "import openpyxl\n",
        "import spacy\n",
        "from io import StringIO"
      ]
    },
    {
      "cell_type": "code",
      "execution_count": 2,
      "id": "930f21e5-1240-4c23-8447-62a5c3b1518c",
      "metadata": {
        "colab": {
          "base_uri": "https://localhost:8080/",
          "height": 423
        },
        "id": "930f21e5-1240-4c23-8447-62a5c3b1518c",
        "outputId": "89788901-1272-42d2-ec84-86d37c9cde04"
      },
      "outputs": [
        {
          "data": {
            "text/html": [
              "<div>\n",
              "<style scoped>\n",
              "    .dataframe tbody tr th:only-of-type {\n",
              "        vertical-align: middle;\n",
              "    }\n",
              "\n",
              "    .dataframe tbody tr th {\n",
              "        vertical-align: top;\n",
              "    }\n",
              "\n",
              "    .dataframe thead th {\n",
              "        text-align: right;\n",
              "    }\n",
              "</style>\n",
              "<table border=\"1\" class=\"dataframe\">\n",
              "  <thead>\n",
              "    <tr style=\"text-align: right;\">\n",
              "      <th></th>\n",
              "      <th>Reviews</th>\n",
              "      <th>Sentiment</th>\n",
              "    </tr>\n",
              "  </thead>\n",
              "  <tbody>\n",
              "    <tr>\n",
              "      <th>0</th>\n",
              "      <td>When I first tuned in on this morning news, I ...</td>\n",
              "      <td>neg</td>\n",
              "    </tr>\n",
              "    <tr>\n",
              "      <th>1</th>\n",
              "      <td>Mere thoughts of \"Going Overboard\" (aka \"Babes...</td>\n",
              "      <td>neg</td>\n",
              "    </tr>\n",
              "    <tr>\n",
              "      <th>2</th>\n",
              "      <td>Why does this movie fall WELL below standards?...</td>\n",
              "      <td>neg</td>\n",
              "    </tr>\n",
              "    <tr>\n",
              "      <th>3</th>\n",
              "      <td>Wow and I thought that any Steven Segal movie ...</td>\n",
              "      <td>neg</td>\n",
              "    </tr>\n",
              "    <tr>\n",
              "      <th>4</th>\n",
              "      <td>The story is seen before, but that does'n matt...</td>\n",
              "      <td>neg</td>\n",
              "    </tr>\n",
              "    <tr>\n",
              "      <th>...</th>\n",
              "      <td>...</td>\n",
              "      <td>...</td>\n",
              "    </tr>\n",
              "    <tr>\n",
              "      <th>24995</th>\n",
              "      <td>Everyone plays their part pretty well in this ...</td>\n",
              "      <td>pos</td>\n",
              "    </tr>\n",
              "    <tr>\n",
              "      <th>24996</th>\n",
              "      <td>It happened with Assault on Prescient 13 in 20...</td>\n",
              "      <td>neg</td>\n",
              "    </tr>\n",
              "    <tr>\n",
              "      <th>24997</th>\n",
              "      <td>My God. This movie was awful. I can't complain...</td>\n",
              "      <td>neg</td>\n",
              "    </tr>\n",
              "    <tr>\n",
              "      <th>24998</th>\n",
              "      <td>When I first popped in Happy Birthday to Me, I...</td>\n",
              "      <td>neg</td>\n",
              "    </tr>\n",
              "    <tr>\n",
              "      <th>24999</th>\n",
              "      <td>So why does this show suck? Unfortunately, tha...</td>\n",
              "      <td>neg</td>\n",
              "    </tr>\n",
              "  </tbody>\n",
              "</table>\n",
              "<p>25000 rows × 2 columns</p>\n",
              "</div>"
            ],
            "text/plain": [
              "                                                 Reviews Sentiment\n",
              "0      When I first tuned in on this morning news, I ...       neg\n",
              "1      Mere thoughts of \"Going Overboard\" (aka \"Babes...       neg\n",
              "2      Why does this movie fall WELL below standards?...       neg\n",
              "3      Wow and I thought that any Steven Segal movie ...       neg\n",
              "4      The story is seen before, but that does'n matt...       neg\n",
              "...                                                  ...       ...\n",
              "24995  Everyone plays their part pretty well in this ...       pos\n",
              "24996  It happened with Assault on Prescient 13 in 20...       neg\n",
              "24997  My God. This movie was awful. I can't complain...       neg\n",
              "24998  When I first popped in Happy Birthday to Me, I...       neg\n",
              "24999  So why does this show suck? Unfortunately, tha...       neg\n",
              "\n",
              "[25000 rows x 2 columns]"
            ]
          },
          "execution_count": 2,
          "metadata": {},
          "output_type": "execute_result"
        }
      ],
      "source": [
        "df = pd.read_excel(r\"train.xlsx\")\n",
        "df"
      ]
    },
    {
      "cell_type": "markdown",
      "id": "efd8d637-c208-4f3a-9307-67f2a47825a2",
      "metadata": {
        "id": "efd8d637-c208-4f3a-9307-67f2a47825a2"
      },
      "source": [
        "# Preprocessing"
      ]
    },
    {
      "cell_type": "code",
      "execution_count": 3,
      "id": "86b90616-7115-45c2-bf1c-1986329b8e0c",
      "metadata": {
        "id": "86b90616-7115-45c2-bf1c-1986329b8e0c"
      },
      "outputs": [],
      "source": [
        "from sklearn.model_selection import train_test_split\n",
        "from sklearn.metrics import classification_report, accuracy_score, confusion_matrix\n",
        "import preprocess_kgptalkie as ps  # import the cleaning package"
      ]
    },
    {
      "cell_type": "markdown",
      "id": "7b63de3e-3b53-4b00-a4eb-6fe7b71277f2",
      "metadata": {
        "id": "7b63de3e-3b53-4b00-a4eb-6fe7b71277f2"
      },
      "source": [
        "## Removing stopwords"
      ]
    },
    {
      "cell_type": "markdown",
      "id": "f5e0a3ca-7a9d-4c0d-b7b3-c1a610fe6234",
      "metadata": {
        "id": "f5e0a3ca-7a9d-4c0d-b7b3-c1a610fe6234"
      },
      "source": [
        "# Cleaning the texts of special characters"
      ]
    },
    {
      "cell_type": "code",
      "execution_count": 4,
      "id": "98f232c1-ec27-4af4-a56f-65fcbc4cafab",
      "metadata": {
        "id": "98f232c1-ec27-4af4-a56f-65fcbc4cafab"
      },
      "outputs": [],
      "source": [
        "import preprocess_kgptalkie as ps  # import the cleaning package\n",
        "import re # regular expression\n",
        "\n",
        "def get_clean(x):\n",
        "    x = str(x).lower().replace('\\\\', '').replace('_', ' ')\n",
        "    x = ps.cont_exp(x)\n",
        "    x = ps.remove_emails(x)\n",
        "    x = ps.remove_urls(x)\n",
        "    x = ps.remove_html_tags(x)\n",
        "    x = ps.remove_rt(x)\n",
        "    x = ps.remove_accented_chars(x)\n",
        "    x = ps.remove_special_chars(x)\n",
        "    x = re.sub(\"(.)\\\\1{2,}\", \"\\\\1\", x)\n",
        "    return x"
      ]
    },
    {
      "cell_type": "code",
      "execution_count": 5,
      "id": "f6f9ea83-42c4-404c-aad2-4a4c03563727",
      "metadata": {
        "id": "f6f9ea83-42c4-404c-aad2-4a4c03563727"
      },
      "outputs": [
        {
          "name": "stderr",
          "output_type": "stream",
          "text": [
            "c:\\Users\\godwi\\anaconda3\\envs\\ML\\lib\\site-packages\\bs4\\__init__.py:435: MarkupResemblesLocatorWarning: The input looks more like a filename than markup. You may want to open this file and pass the filehandle into Beautiful Soup.\n",
            "  warnings.warn(\n"
          ]
        }
      ],
      "source": [
        "df.Reviews = df.Reviews.apply(lambda x: get_clean(x))"
      ]
    },
    {
      "cell_type": "code",
      "execution_count": 7,
      "id": "fa810367-2de6-470d-b723-9b9a94f87e40",
      "metadata": {
        "id": "fa810367-2de6-470d-b723-9b9a94f87e40"
      },
      "outputs": [],
      "source": [
        "X = df['Reviews']\n",
        "y = df['Sentiment']"
      ]
    },
    {
      "cell_type": "markdown",
      "id": "1721aad6-1db8-4f97-a3fc-3c37916cc549",
      "metadata": {
        "id": "1721aad6-1db8-4f97-a3fc-3c37916cc549"
      },
      "source": [
        "## TFIDF  = term frequency–inverse document frequency"
      ]
    },
    {
      "cell_type": "markdown",
      "id": "1d3b11b2-633d-4f72-aa9e-855211815d09",
      "metadata": {
        "id": "1d3b11b2-633d-4f72-aa9e-855211815d09",
        "tags": []
      },
      "source": [
        "### Converting the text into numeric"
      ]
    },
    {
      "cell_type": "code",
      "execution_count": 8,
      "id": "a2800949-a2e7-4dd8-971e-8cbe6c21d060",
      "metadata": {
        "id": "a2800949-a2e7-4dd8-971e-8cbe6c21d060"
      },
      "outputs": [],
      "source": [
        "from sklearn.feature_extraction.text import TfidfVectorizer"
      ]
    },
    {
      "cell_type": "code",
      "execution_count": 9,
      "id": "b5a71eac-1dac-48c6-bfba-14f4c4d2de36",
      "metadata": {
        "id": "b5a71eac-1dac-48c6-bfba-14f4c4d2de36"
      },
      "outputs": [],
      "source": [
        "vectorizer = TfidfVectorizer(max_features = 5000, ngram_range =(1,2))"
      ]
    },
    {
      "cell_type": "code",
      "execution_count": 10,
      "id": "0ecaa3d1-0c36-463e-a793-6de44343fad4",
      "metadata": {
        "id": "0ecaa3d1-0c36-463e-a793-6de44343fad4"
      },
      "outputs": [],
      "source": [
        "# tranforming data to sparse matrix\n",
        "X = vectorizer.fit_transform(X)\n",
        "# y= vectorizer.fit_transform(y)"
      ]
    },
    {
      "cell_type": "code",
      "execution_count": 11,
      "id": "a4c6dbc3-6dc5-46f5-a5dc-edd62c70ca8f",
      "metadata": {
        "id": "a4c6dbc3-6dc5-46f5-a5dc-edd62c70ca8f"
      },
      "outputs": [],
      "source": [
        "X_train, X_test,y_train, y_test = train_test_split(X, y, test_size = 0.2, random_state = 42 )"
      ]
    },
    {
      "cell_type": "markdown",
      "id": "c3927bb3-0884-447d-8ca7-74843a626c03",
      "metadata": {
        "id": "c3927bb3-0884-447d-8ca7-74843a626c03"
      },
      "source": [
        "# Instantiating or fitting the model"
      ]
    },
    {
      "cell_type": "code",
      "execution_count": 12,
      "id": "bf06a995-d469-498c-9ec6-ce5b0d792fb4",
      "metadata": {
        "colab": {
          "base_uri": "https://localhost:8080/"
        },
        "id": "bf06a995-d469-498c-9ec6-ce5b0d792fb4",
        "outputId": "b7574d79-f573-4f19-84d2-f1970bce566c"
      },
      "outputs": [
        {
          "name": "stdout",
          "output_type": "stream",
          "text": [
            "{'C': 1.0, 'class_weight': None, 'dual': False, 'fit_intercept': True, 'intercept_scaling': 1, 'l1_ratio': None, 'max_iter': 100, 'multi_class': 'auto', 'n_jobs': None, 'penalty': 'l2', 'random_state': None, 'solver': 'lbfgs', 'tol': 0.0001, 'verbose': 0, 'warm_start': False}\n"
          ]
        }
      ],
      "source": [
        "from sklearn.linear_model import LogisticRegression\n",
        "lr = LogisticRegression()\n",
        "lr.fit(X_train, y_train)\n",
        "print(lr.get_params())"
      ]
    },
    {
      "cell_type": "code",
      "execution_count": 13,
      "id": "661c265f",
      "metadata": {},
      "outputs": [
        {
          "data": {
            "text/plain": [
              "((20000, 5000), (20000,))"
            ]
          },
          "execution_count": 13,
          "metadata": {},
          "output_type": "execute_result"
        }
      ],
      "source": [
        "X_train.shape, y_train.shape"
      ]
    },
    {
      "cell_type": "markdown",
      "id": "d0c4148f-ed3e-47bd-b631-fbffb3500973",
      "metadata": {
        "id": "d0c4148f-ed3e-47bd-b631-fbffb3500973"
      },
      "source": [
        "# Testing the Model"
      ]
    },
    {
      "cell_type": "code",
      "execution_count": 14,
      "id": "5bfc9653-4f29-46ea-813c-a7017a24b606",
      "metadata": {
        "id": "5bfc9653-4f29-46ea-813c-a7017a24b606"
      },
      "outputs": [],
      "source": [
        "y_pred = lr.predict(X_test)"
      ]
    },
    {
      "cell_type": "code",
      "execution_count": 15,
      "id": "2d4eccfc-6297-4aee-9adb-faad183cd70f",
      "metadata": {
        "colab": {
          "base_uri": "https://localhost:8080/"
        },
        "id": "2d4eccfc-6297-4aee-9adb-faad183cd70f",
        "outputId": "92e9d09c-089d-43e1-9668-7ff2c45413cc"
      },
      "outputs": [
        {
          "data": {
            "text/plain": [
              "array(['pos', 'pos', 'neg', ..., 'pos', 'neg', 'pos'], dtype=object)"
            ]
          },
          "execution_count": 15,
          "metadata": {},
          "output_type": "execute_result"
        }
      ],
      "source": [
        "y_pred"
      ]
    },
    {
      "cell_type": "markdown",
      "id": "10dab064-4c70-40b8-bd4e-e3b23d389ba7",
      "metadata": {
        "id": "10dab064-4c70-40b8-bd4e-e3b23d389ba7"
      },
      "source": [
        "# Classification Report"
      ]
    },
    {
      "cell_type": "code",
      "execution_count": 16,
      "id": "88b888e8-fc42-4d82-8cc8-3020b7638631",
      "metadata": {
        "colab": {
          "base_uri": "https://localhost:8080/"
        },
        "id": "88b888e8-fc42-4d82-8cc8-3020b7638631",
        "outputId": "a8fe3310-c569-417d-a941-da62c220e3ee"
      },
      "outputs": [
        {
          "name": "stdout",
          "output_type": "stream",
          "text": [
            "              precision    recall  f1-score   support\n",
            "\n",
            "         neg       0.90      0.87      0.88      2600\n",
            "         pos       0.86      0.90      0.88      2400\n",
            "\n",
            "    accuracy                           0.88      5000\n",
            "   macro avg       0.88      0.88      0.88      5000\n",
            "weighted avg       0.88      0.88      0.88      5000\n",
            "\n"
          ]
        }
      ],
      "source": [
        "print( classification_report (y_test, y_pred))"
      ]
    },
    {
      "cell_type": "markdown",
      "id": "2ca158b5-2ce0-4353-b190-4c2c7cb3944c",
      "metadata": {
        "id": "2ca158b5-2ce0-4353-b190-4c2c7cb3944c"
      },
      "source": [
        "# Confusion matrix"
      ]
    },
    {
      "cell_type": "code",
      "execution_count": 17,
      "id": "4591ec74-a78b-48c4-a8fd-e4a2284041a7",
      "metadata": {
        "id": "4591ec74-a78b-48c4-a8fd-e4a2284041a7"
      },
      "outputs": [],
      "source": [
        "confusion = confusion_matrix(y_test, y_pred)\n",
        "cfm = pd.DataFrame(confusion, index = ['Negative',\"Positive\"], columns = ['Negative',\"Positive\"])"
      ]
    },
    {
      "cell_type": "code",
      "execution_count": 18,
      "id": "3dffc31d",
      "metadata": {},
      "outputs": [
        {
          "data": {
            "image/png": "[encoded data removed]",
            "text/plain": [
              "<Figure size 1080x360 with 2 Axes>"
            ]
          },
          "metadata": {
            "needs_background": "light"
          },
          "output_type": "display_data"
        }
      ],
      "source": [
        "fig, ax = plt.subplots(figsize =(15,5))\n",
        "sns.heatmap (cfm/np.sum(cfm), annot = True, fmt = \".1%\")\n",
        "ax.set(title = 'Confusion Matrix', xlabel = 'Predicted Class', ylabel = 'Actual Class');"
      ]
    },
    {
      "cell_type": "code",
      "execution_count": 19,
      "id": "5f821a32-d43d-4995-87a6-f2c4e2535eaa",
      "metadata": {
        "colab": {
          "base_uri": "https://localhost:8080/",
          "height": 282
        },
        "id": "5f821a32-d43d-4995-87a6-f2c4e2535eaa",
        "outputId": "00bd1e2c-29a5-48cf-e3d1-527418d14775"
      },
      "outputs": [
        {
          "data": {
            "text/plain": [
              "<BarContainer object of 4 artists>"
            ]
          },
          "execution_count": 19,
          "metadata": {},
          "output_type": "execute_result"
        },
        {
          "data": {
            "image/png": "[encoded data removed]",
            "text/plain": [
              "<Figure size 432x288 with 1 Axes>"
            ]
          },
          "metadata": {
            "needs_background": "light"
          },
          "output_type": "display_data"
        }
      ],
      "source": [
        "FN = confusion[1][0]\n",
        "TN = confusion[0][0]\n",
        "TP = confusion[1][1]\n",
        "FP = confusion[0][1]\n",
        "\n",
        "plt.bar(['False Negative' , 'True Negative' , 'True Positive' , 'False Positive'],[FN,TN,TP,FP])"
      ]
    },
    {
      "cell_type": "markdown",
      "id": "ad038952-be6b-44dc-b3a2-832820e50673",
      "metadata": {
        "id": "ad038952-be6b-44dc-b3a2-832820e50673"
      },
      "source": [
        "# Accuracy Score"
      ]
    },
    {
      "cell_type": "code",
      "execution_count": 20,
      "id": "34f1880a-4a43-4903-9a4e-3395ed0e1a58",
      "metadata": {
        "colab": {
          "base_uri": "https://localhost:8080/"
        },
        "id": "34f1880a-4a43-4903-9a4e-3395ed0e1a58",
        "outputId": "95879c19-33eb-4ed4-bd40-d903999350bf"
      },
      "outputs": [
        {
          "data": {
            "text/plain": [
              "0.8814"
            ]
          },
          "execution_count": 20,
          "metadata": {},
          "output_type": "execute_result"
        }
      ],
      "source": [
        "lr.score(X_test, y_test)"
      ]
    },
    {
      "cell_type": "code",
      "execution_count": 21,
      "id": "8bfd8cd2-db4e-47be-83c6-7b2c48798cfe",
      "metadata": {
        "colab": {
          "base_uri": "https://localhost:8080/"
        },
        "id": "8bfd8cd2-db4e-47be-83c6-7b2c48798cfe",
        "outputId": "9bf01985-f01f-41a2-97fd-9acdff136915"
      },
      "outputs": [
        {
          "data": {
            "text/plain": [
              "0.8814"
            ]
          },
          "execution_count": 21,
          "metadata": {},
          "output_type": "execute_result"
        }
      ],
      "source": [
        "accuracy_score(y_test, y_pred)"
      ]
    },
    {
      "cell_type": "markdown",
      "id": "3504bcc6-6113-4929-a6e3-adebdbfbe8c1",
      "metadata": {
        "id": "3504bcc6-6113-4929-a6e3-adebdbfbe8c1"
      },
      "source": [
        "# Now lets predict on the custom data set"
      ]
    },
    {
      "cell_type": "code",
      "execution_count": 22,
      "id": "2d316126-65bc-4ff1-a7a1-47a3d757eafa",
      "metadata": {
        "id": "2d316126-65bc-4ff1-a7a1-47a3d757eafa"
      },
      "outputs": [],
      "source": [
        "x = 'this movie was bad'\n",
        "x = get_clean(x)\n",
        "vec = vectorizer.transform([x])"
      ]
    },
    {
      "cell_type": "code",
      "execution_count": 23,
      "id": "116fa3bc-6fe0-4896-adc1-615fd04cd5d3",
      "metadata": {
        "colab": {
          "base_uri": "https://localhost:8080/"
        },
        "id": "116fa3bc-6fe0-4896-adc1-615fd04cd5d3",
        "outputId": "d8e4434a-7cc3-472a-efee-bb8f8cc2b404"
      },
      "outputs": [
        {
          "data": {
            "text/plain": [
              "<1x5000 sparse matrix of type '<class 'numpy.float64'>'\n",
              "\twith 7 stored elements in Compressed Sparse Row format>"
            ]
          },
          "execution_count": 23,
          "metadata": {},
          "output_type": "execute_result"
        }
      ],
      "source": [
        "vec"
      ]
    },
    {
      "cell_type": "code",
      "execution_count": 24,
      "id": "ca613420-6044-41fb-a453-b2ff8986be43",
      "metadata": {
        "colab": {
          "base_uri": "https://localhost:8080/"
        },
        "id": "ca613420-6044-41fb-a453-b2ff8986be43",
        "outputId": "85da12a9-96ad-4d9d-d16e-5c80e185f32b"
      },
      "outputs": [
        {
          "data": {
            "text/plain": [
              "array(['neg'], dtype=object)"
            ]
          },
          "execution_count": 24,
          "metadata": {},
          "output_type": "execute_result"
        }
      ],
      "source": [
        "# now to test\n",
        "\n",
        "lr.predict(vec)"
      ]
    },
    {
      "cell_type": "markdown",
      "id": "3b691f01-f201-4763-90b5-f1c3cdbc1f6d",
      "metadata": {
        "id": "3b691f01-f201-4763-90b5-f1c3cdbc1f6d"
      },
      "source": [
        "# Saving the model"
      ]
    },
    {
      "cell_type": "code",
      "execution_count": 25,
      "id": "b1e1f949-1c8c-4a9a-96d2-9efd51be8d94",
      "metadata": {
        "id": "b1e1f949-1c8c-4a9a-96d2-9efd51be8d94"
      },
      "outputs": [],
      "source": [
        "import pickle"
      ]
    },
    {
      "cell_type": "code",
      "execution_count": 26,
      "id": "92b0433a-f393-452d-8283-7b2495d5d267",
      "metadata": {
        "id": "92b0433a-f393-452d-8283-7b2495d5d267"
      },
      "outputs": [],
      "source": [
        "pickle.dump(lr, open('prediction.pkl', 'wb'))"
      ]
    },
    {
      "cell_type": "code",
      "execution_count": null,
      "id": "dedc5400-6380-46d0-a707-5c1e82777f43",
      "metadata": {
        "id": "dedc5400-6380-46d0-a707-5c1e82777f43"
      },
      "outputs": [],
      "source": []
    },
    {
      "cell_type": "markdown",
      "id": "21db41f8-0e18-4aeb-bbd0-b8e1a5eec35d",
      "metadata": {
        "id": "21db41f8-0e18-4aeb-bbd0-b8e1a5eec35d"
      },
      "source": [
        "# Loading the model"
      ]
    },
    {
      "cell_type": "code",
      "execution_count": 27,
      "id": "df3b4a61-734c-475a-a3f5-6d560c482d22",
      "metadata": {
        "id": "df3b4a61-734c-475a-a3f5-6d560c482d22"
      },
      "outputs": [],
      "source": [
        "loaded_model = pickle.load(open('prediction.pkl', 'rb'))"
      ]
    },
    {
      "cell_type": "code",
      "execution_count": 28,
      "id": "535b143a-183b-4914-981e-d171dc971f44",
      "metadata": {
        "id": "535b143a-183b-4914-981e-d171dc971f44"
      },
      "outputs": [],
      "source": [
        "df_test = pd.read_excel(r'test.xlsx')"
      ]
    },
    {
      "cell_type": "markdown",
      "id": "d80930d3-3fcd-496a-a05c-b689ce94d712",
      "metadata": {
        "id": "d80930d3-3fcd-496a-a05c-b689ce94d712"
      },
      "source": [
        "# Testing the model on a new dataset"
      ]
    },
    {
      "cell_type": "code",
      "execution_count": 29,
      "id": "5765ce6d-8b3c-4631-8463-ca7db9d4dd70",
      "metadata": {
        "colab": {
          "base_uri": "https://localhost:8080/",
          "height": 206
        },
        "id": "5765ce6d-8b3c-4631-8463-ca7db9d4dd70",
        "outputId": "61cfd972-178c-4488-eb2c-3aecfae157ce"
      },
      "outputs": [
        {
          "data": {
            "text/html": [
              "<div>\n",
              "<style scoped>\n",
              "    .dataframe tbody tr th:only-of-type {\n",
              "        vertical-align: middle;\n",
              "    }\n",
              "\n",
              "    .dataframe tbody tr th {\n",
              "        vertical-align: top;\n",
              "    }\n",
              "\n",
              "    .dataframe thead th {\n",
              "        text-align: right;\n",
              "    }\n",
              "</style>\n",
              "<table border=\"1\" class=\"dataframe\">\n",
              "  <thead>\n",
              "    <tr style=\"text-align: right;\">\n",
              "      <th></th>\n",
              "      <th>Reviews</th>\n",
              "      <th>Sentiment</th>\n",
              "    </tr>\n",
              "  </thead>\n",
              "  <tbody>\n",
              "    <tr>\n",
              "      <th>0</th>\n",
              "      <td>Who would have thought that a movie about a ma...</td>\n",
              "      <td>pos</td>\n",
              "    </tr>\n",
              "    <tr>\n",
              "      <th>1</th>\n",
              "      <td>After realizing what is going on around us ......</td>\n",
              "      <td>pos</td>\n",
              "    </tr>\n",
              "    <tr>\n",
              "      <th>2</th>\n",
              "      <td>I grew up watching the original Disney Cindere...</td>\n",
              "      <td>neg</td>\n",
              "    </tr>\n",
              "    <tr>\n",
              "      <th>3</th>\n",
              "      <td>David Mamet wrote the screenplay and made his ...</td>\n",
              "      <td>pos</td>\n",
              "    </tr>\n",
              "    <tr>\n",
              "      <th>4</th>\n",
              "      <td>Admittedly, I didn't have high expectations of...</td>\n",
              "      <td>neg</td>\n",
              "    </tr>\n",
              "  </tbody>\n",
              "</table>\n",
              "</div>"
            ],
            "text/plain": [
              "                                             Reviews Sentiment\n",
              "0  Who would have thought that a movie about a ma...       pos\n",
              "1  After realizing what is going on around us ......       pos\n",
              "2  I grew up watching the original Disney Cindere...       neg\n",
              "3  David Mamet wrote the screenplay and made his ...       pos\n",
              "4  Admittedly, I didn't have high expectations of...       neg"
            ]
          },
          "execution_count": 29,
          "metadata": {},
          "output_type": "execute_result"
        }
      ],
      "source": [
        "df_test[:5]"
      ]
    },
    {
      "cell_type": "markdown",
      "id": "de17ae89-74fd-4b7e-9dcd-e9bf084149c6",
      "metadata": {
        "id": "de17ae89-74fd-4b7e-9dcd-e9bf084149c6"
      },
      "source": [
        "# Preprocesisng to clean the model"
      ]
    },
    {
      "cell_type": "code",
      "execution_count": 30,
      "id": "6d3ee769-bc1a-486a-80ba-ce8b1e63d231",
      "metadata": {
        "id": "6d3ee769-bc1a-486a-80ba-ce8b1e63d231"
      },
      "outputs": [
        {
          "name": "stderr",
          "output_type": "stream",
          "text": [
            "c:\\Users\\godwi\\anaconda3\\envs\\ML\\lib\\site-packages\\bs4\\__init__.py:435: MarkupResemblesLocatorWarning: The input looks more like a filename than markup. You may want to open this file and pass the filehandle into Beautiful Soup.\n",
            "  warnings.warn(\n"
          ]
        }
      ],
      "source": [
        "# lets clean thew review column and appy get_clean\n",
        "df_test['Reviews'] = df_test['Reviews'].apply(lambda x: get_clean(x))\n"
      ]
    },
    {
      "cell_type": "code",
      "execution_count": 31,
      "id": "e06fed95-9776-43cc-a640-b446cc1b1197",
      "metadata": {
        "id": "e06fed95-9776-43cc-a640-b446cc1b1197"
      },
      "outputs": [],
      "source": [
        "new_data = df_test['Reviews']"
      ]
    },
    {
      "cell_type": "markdown",
      "id": "4005f529-d8ec-42b9-b63f-1d388141c082",
      "metadata": {
        "id": "4005f529-d8ec-42b9-b63f-1d388141c082"
      },
      "source": [
        "# Transforming the model"
      ]
    },
    {
      "cell_type": "code",
      "execution_count": 32,
      "id": "564b9fc4-5f23-43a2-b1b3-97f10785a131",
      "metadata": {
        "id": "564b9fc4-5f23-43a2-b1b3-97f10785a131"
      },
      "outputs": [],
      "source": [
        "new_data = vectorizer.fit_transform(new_data)"
      ]
    },
    {
      "cell_type": "code",
      "execution_count": 33,
      "id": "33e9f5ce-1143-400b-9d51-244a509673ce",
      "metadata": {
        "colab": {
          "base_uri": "https://localhost:8080/"
        },
        "id": "33e9f5ce-1143-400b-9d51-244a509673ce",
        "outputId": "a3a159c9-8b6d-404c-dc2a-638c673221e1"
      },
      "outputs": [
        {
          "data": {
            "text/plain": [
              "<25000x5000 sparse matrix of type '<class 'numpy.float64'>'\n",
              "\twith 3971382 stored elements in Compressed Sparse Row format>"
            ]
          },
          "execution_count": 33,
          "metadata": {},
          "output_type": "execute_result"
        }
      ],
      "source": [
        "new_data"
      ]
    },
    {
      "cell_type": "code",
      "execution_count": 34,
      "id": "63e0ef14-30bc-4137-80fb-68582db22a5b",
      "metadata": {
        "id": "63e0ef14-30bc-4137-80fb-68582db22a5b"
      },
      "outputs": [],
      "source": [
        "new_data_pred = loaded_model.predict(new_data)"
      ]
    },
    {
      "cell_type": "code",
      "execution_count": 35,
      "id": "4a58b09b-0413-4b89-919c-ca366bd30973",
      "metadata": {
        "colab": {
          "base_uri": "https://localhost:8080/",
          "height": 206
        },
        "id": "4a58b09b-0413-4b89-919c-ca366bd30973",
        "outputId": "fd9186f4-c022-42b8-de5e-80e3a1fa0dea"
      },
      "outputs": [
        {
          "data": {
            "text/html": [
              "<div>\n",
              "<style scoped>\n",
              "    .dataframe tbody tr th:only-of-type {\n",
              "        vertical-align: middle;\n",
              "    }\n",
              "\n",
              "    .dataframe tbody tr th {\n",
              "        vertical-align: top;\n",
              "    }\n",
              "\n",
              "    .dataframe thead th {\n",
              "        text-align: right;\n",
              "    }\n",
              "</style>\n",
              "<table border=\"1\" class=\"dataframe\">\n",
              "  <thead>\n",
              "    <tr style=\"text-align: right;\">\n",
              "      <th></th>\n",
              "      <th>Predicted_Sentiment</th>\n",
              "    </tr>\n",
              "  </thead>\n",
              "  <tbody>\n",
              "    <tr>\n",
              "      <th>0</th>\n",
              "      <td>pos</td>\n",
              "    </tr>\n",
              "    <tr>\n",
              "      <th>1</th>\n",
              "      <td>pos</td>\n",
              "    </tr>\n",
              "    <tr>\n",
              "      <th>2</th>\n",
              "      <td>neg</td>\n",
              "    </tr>\n",
              "    <tr>\n",
              "      <th>3</th>\n",
              "      <td>pos</td>\n",
              "    </tr>\n",
              "    <tr>\n",
              "      <th>4</th>\n",
              "      <td>neg</td>\n",
              "    </tr>\n",
              "  </tbody>\n",
              "</table>\n",
              "</div>"
            ],
            "text/plain": [
              "  Predicted_Sentiment\n",
              "0                 pos\n",
              "1                 pos\n",
              "2                 neg\n",
              "3                 pos\n",
              "4                 neg"
            ]
          },
          "execution_count": 35,
          "metadata": {},
          "output_type": "execute_result"
        }
      ],
      "source": [
        "df_testing = pd.DataFrame(new_data_pred, columns = ['Predicted_Sentiment'])\n",
        "df_testing.head()   "
      ]
    },
    {
      "cell_type": "markdown",
      "id": "bb536c3a-d0e2-4ab8-b728-fd97d8ed219b",
      "metadata": {
        "id": "bb536c3a-d0e2-4ab8-b728-fd97d8ed219b"
      },
      "source": [
        "# Concat the dataset with predicted model"
      ]
    },
    {
      "cell_type": "code",
      "execution_count": 36,
      "id": "872f45c9-6d77-4347-b268-0bae7dc777fa",
      "metadata": {
        "id": "872f45c9-6d77-4347-b268-0bae7dc777fa"
      },
      "outputs": [],
      "source": [
        "testing_dataset = pd.concat([df_test, df_testing], ignore_index = False, axis =1)"
      ]
    },
    {
      "cell_type": "code",
      "execution_count": 37,
      "id": "d133a096-8d60-475e-8034-c02fea95d28a",
      "metadata": {
        "colab": {
          "base_uri": "https://localhost:8080/",
          "height": 206
        },
        "id": "d133a096-8d60-475e-8034-c02fea95d28a",
        "outputId": "4fbd0542-af3b-4a6b-cf7d-841d9ff9f521"
      },
      "outputs": [
        {
          "data": {
            "text/html": [
              "<div>\n",
              "<style scoped>\n",
              "    .dataframe tbody tr th:only-of-type {\n",
              "        vertical-align: middle;\n",
              "    }\n",
              "\n",
              "    .dataframe tbody tr th {\n",
              "        vertical-align: top;\n",
              "    }\n",
              "\n",
              "    .dataframe thead th {\n",
              "        text-align: right;\n",
              "    }\n",
              "</style>\n",
              "<table border=\"1\" class=\"dataframe\">\n",
              "  <thead>\n",
              "    <tr style=\"text-align: right;\">\n",
              "      <th></th>\n",
              "      <th>Reviews</th>\n",
              "      <th>Sentiment</th>\n",
              "      <th>Predicted_Sentiment</th>\n",
              "    </tr>\n",
              "  </thead>\n",
              "  <tbody>\n",
              "    <tr>\n",
              "      <th>0</th>\n",
              "      <td>who would have thought that a movie about a ma...</td>\n",
              "      <td>pos</td>\n",
              "      <td>pos</td>\n",
              "    </tr>\n",
              "    <tr>\n",
              "      <th>1</th>\n",
              "      <td>after realizing what is going on around us in ...</td>\n",
              "      <td>pos</td>\n",
              "      <td>pos</td>\n",
              "    </tr>\n",
              "    <tr>\n",
              "      <th>2</th>\n",
              "      <td>i grew up watching the original disney cindere...</td>\n",
              "      <td>neg</td>\n",
              "      <td>neg</td>\n",
              "    </tr>\n",
              "    <tr>\n",
              "      <th>3</th>\n",
              "      <td>david mamet wrote the screenplay and made his ...</td>\n",
              "      <td>pos</td>\n",
              "      <td>pos</td>\n",
              "    </tr>\n",
              "    <tr>\n",
              "      <th>4</th>\n",
              "      <td>admittedly i did not have high expectations of...</td>\n",
              "      <td>neg</td>\n",
              "      <td>neg</td>\n",
              "    </tr>\n",
              "  </tbody>\n",
              "</table>\n",
              "</div>"
            ],
            "text/plain": [
              "                                             Reviews Sentiment  \\\n",
              "0  who would have thought that a movie about a ma...       pos   \n",
              "1  after realizing what is going on around us in ...       pos   \n",
              "2  i grew up watching the original disney cindere...       neg   \n",
              "3  david mamet wrote the screenplay and made his ...       pos   \n",
              "4  admittedly i did not have high expectations of...       neg   \n",
              "\n",
              "  Predicted_Sentiment  \n",
              "0                 pos  \n",
              "1                 pos  \n",
              "2                 neg  \n",
              "3                 pos  \n",
              "4                 neg  "
            ]
          },
          "execution_count": 37,
          "metadata": {},
          "output_type": "execute_result"
        }
      ],
      "source": [
        "testing_dataset.head()"
      ]
    },
    {
      "cell_type": "code",
      "execution_count": 38,
      "id": "c4563971-494a-4e94-94fe-d0443db56bf6",
      "metadata": {
        "id": "c4563971-494a-4e94-94fe-d0443db56bf6"
      },
      "outputs": [],
      "source": [
        "original = testing_dataset.Sentiment.value_counts()"
      ]
    },
    {
      "cell_type": "code",
      "execution_count": 39,
      "id": "ef3b0326-ad95-4401-904c-79057269e0db",
      "metadata": {
        "id": "ef3b0326-ad95-4401-904c-79057269e0db"
      },
      "outputs": [],
      "source": [
        "predicted = testing_dataset.Predicted_Sentiment.value_counts()"
      ]
    },
    {
      "cell_type": "code",
      "execution_count": 40,
      "id": "c9db1318-950d-4631-b2db-e872a7e9af14",
      "metadata": {
        "id": "c9db1318-950d-4631-b2db-e872a7e9af14"
      },
      "outputs": [],
      "source": [
        "conc = pd.concat ([original,predicted], axis = 1)"
      ]
    },
    {
      "cell_type": "code",
      "execution_count": 41,
      "id": "b9c14a29-96ca-4bd3-8c99-2d6730bab00e",
      "metadata": {
        "colab": {
          "base_uri": "https://localhost:8080/",
          "height": 112
        },
        "id": "b9c14a29-96ca-4bd3-8c99-2d6730bab00e",
        "outputId": "8ba98cad-245b-4cb4-bd10-5f44b262ed7d"
      },
      "outputs": [
        {
          "data": {
            "text/html": [
              "<div>\n",
              "<style scoped>\n",
              "    .dataframe tbody tr th:only-of-type {\n",
              "        vertical-align: middle;\n",
              "    }\n",
              "\n",
              "    .dataframe tbody tr th {\n",
              "        vertical-align: top;\n",
              "    }\n",
              "\n",
              "    .dataframe thead th {\n",
              "        text-align: right;\n",
              "    }\n",
              "</style>\n",
              "<table border=\"1\" class=\"dataframe\">\n",
              "  <thead>\n",
              "    <tr style=\"text-align: right;\">\n",
              "      <th></th>\n",
              "      <th>Sentiment</th>\n",
              "      <th>Predicted_Sentiment</th>\n",
              "    </tr>\n",
              "  </thead>\n",
              "  <tbody>\n",
              "    <tr>\n",
              "      <th>pos</th>\n",
              "      <td>12500</td>\n",
              "      <td>12806</td>\n",
              "    </tr>\n",
              "    <tr>\n",
              "      <th>neg</th>\n",
              "      <td>12500</td>\n",
              "      <td>12194</td>\n",
              "    </tr>\n",
              "  </tbody>\n",
              "</table>\n",
              "</div>"
            ],
            "text/plain": [
              "     Sentiment  Predicted_Sentiment\n",
              "pos      12500                12806\n",
              "neg      12500                12194"
            ]
          },
          "execution_count": 41,
          "metadata": {},
          "output_type": "execute_result"
        }
      ],
      "source": [
        "conc"
      ]
    },
    {
      "cell_type": "code",
      "execution_count": 42,
      "id": "d82221a2-5bd2-4c14-a752-98eff8f70822",
      "metadata": {
        "colab": {
          "base_uri": "https://localhost:8080/",
          "height": 291
        },
        "id": "d82221a2-5bd2-4c14-a752-98eff8f70822",
        "outputId": "4176814c-6a76-4eb7-c7cb-ff8ff0c0ea66"
      },
      "outputs": [
        {
          "data": {
            "text/plain": [
              "<AxesSubplot:>"
            ]
          },
          "execution_count": 42,
          "metadata": {},
          "output_type": "execute_result"
        },
        {
          "data": {
            "image/png": "[encoded data removed]",
            "text/plain": [
              "<Figure size 720x288 with 1 Axes>"
            ]
          },
          "metadata": {
            "needs_background": "light"
          },
          "output_type": "display_data"
        }
      ],
      "source": [
        "fig,ax = plt.subplots(figsize = (10,4))\n",
        "conc.plot(kind ='bar', ax= ax)\n"
      ]
    }
  ],
  "metadata": {
    "colab": {
      "include_colab_link": true,
      "name": "sentiment_analysis_sklearn.ipynb",
      "provenance": []
    },
    "kernelspec": {
      "display_name": "Python 3.9.12 ('ML')",
      "language": "python",
      "name": "python3"
    },
    "language_info": {
      "codemirror_mode": {
        "name": "ipython",
        "version": 3
      },
      "file_extension": ".py",
      "mimetype": "text/x-python",
      "name": "python",
      "nbconvert_exporter": "python",
      "pygments_lexer": "ipython3",
      "version": "3.9.12"
    },
    "vscode": {
      "interpreter": {
        "hash": "686cb14c4d1b9c10293961ee2915b43d0c34036735ac88ced71396191e257b28"
      }
    }
  },
  "nbformat": 4,
  "nbformat_minor": 5
}
