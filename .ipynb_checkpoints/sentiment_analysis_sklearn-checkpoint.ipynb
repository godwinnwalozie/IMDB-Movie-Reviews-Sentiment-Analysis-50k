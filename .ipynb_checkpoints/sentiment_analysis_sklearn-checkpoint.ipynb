{
 "cells": [
  {
   "cell_type": "markdown",
   "id": "b9e1ee6d-c2bc-4d0f-9b6f-4e0fc318c3ba",
   "metadata": {},
   "source": [
    "# NLP Tutorial - Sentiment Analysis using Scikit Sklearn Python on IMDB Dataset"
   ]
  },
  {
   "cell_type": "raw",
   "id": "be4284f7-bff6-4478-8903-76cafb3d60a8",
   "metadata": {
    "jp-MarkdownHeadingCollapsed": true,
    "tags": []
   },
   "source": [
    "# Install Dependencies\n",
    "- pip install git+https://github.com/laxmimerit/preprocess_kgptalkie.git --upgrade --force-reinstall\n",
    "- pip install spacy\n",
    "- from spacy.cli import download  # line 1\n",
    "- download(\"en_core_web_sm\")  - # line 2\n",
    "- pip install beautifulsoup4==4.9.1\n",
    "-  import spacy\n",
    "from spacy.lang.en.examples import sentences pip install textblob==0.15.3"
   ]
  },
  {
   "cell_type": "code",
   "execution_count": 5,
   "id": "7f2a6ffd-62cf-4c77-9b15-c9e30c98c6ea",
   "metadata": {},
   "outputs": [],
   "source": [
    "import pandas as pd\n",
    "import numpy as np\n",
    "import matplotlib.pyplot as plt\n",
    "%matplotlib inline\n",
    "import seaborn as sns\n",
    "import dython\n",
    "from datetime import datetime\n",
    "from dateutil import parser\n",
    "import openpyxl\n",
    "import spacy"
   ]
  },
  {
   "cell_type": "code",
   "execution_count": 6,
   "id": "930f21e5-1240-4c23-8447-62a5c3b1518c",
   "metadata": {},
   "outputs": [
    {
     "data": {
      "text/html": [
       "<div>\n",
       "<style scoped>\n",
       "    .dataframe tbody tr th:only-of-type {\n",
       "        vertical-align: middle;\n",
       "    }\n",
       "\n",
       "    .dataframe tbody tr th {\n",
       "        vertical-align: top;\n",
       "    }\n",
       "\n",
       "    .dataframe thead th {\n",
       "        text-align: right;\n",
       "    }\n",
       "</style>\n",
       "<table border=\"1\" class=\"dataframe\">\n",
       "  <thead>\n",
       "    <tr style=\"text-align: right;\">\n",
       "      <th></th>\n",
       "      <th>Reviews</th>\n",
       "      <th>Sentiment</th>\n",
       "    </tr>\n",
       "  </thead>\n",
       "  <tbody>\n",
       "    <tr>\n",
       "      <th>0</th>\n",
       "      <td>When I first tuned in on this morning news, I ...</td>\n",
       "      <td>neg</td>\n",
       "    </tr>\n",
       "    <tr>\n",
       "      <th>1</th>\n",
       "      <td>Mere thoughts of \"Going Overboard\" (aka \"Babes...</td>\n",
       "      <td>neg</td>\n",
       "    </tr>\n",
       "    <tr>\n",
       "      <th>2</th>\n",
       "      <td>Why does this movie fall WELL below standards?...</td>\n",
       "      <td>neg</td>\n",
       "    </tr>\n",
       "    <tr>\n",
       "      <th>3</th>\n",
       "      <td>Wow and I thought that any Steven Segal movie ...</td>\n",
       "      <td>neg</td>\n",
       "    </tr>\n",
       "    <tr>\n",
       "      <th>4</th>\n",
       "      <td>The story is seen before, but that does'n matt...</td>\n",
       "      <td>neg</td>\n",
       "    </tr>\n",
       "    <tr>\n",
       "      <th>...</th>\n",
       "      <td>...</td>\n",
       "      <td>...</td>\n",
       "    </tr>\n",
       "    <tr>\n",
       "      <th>24995</th>\n",
       "      <td>Everyone plays their part pretty well in this ...</td>\n",
       "      <td>pos</td>\n",
       "    </tr>\n",
       "    <tr>\n",
       "      <th>24996</th>\n",
       "      <td>It happened with Assault on Prescient 13 in 20...</td>\n",
       "      <td>neg</td>\n",
       "    </tr>\n",
       "    <tr>\n",
       "      <th>24997</th>\n",
       "      <td>My God. This movie was awful. I can't complain...</td>\n",
       "      <td>neg</td>\n",
       "    </tr>\n",
       "    <tr>\n",
       "      <th>24998</th>\n",
       "      <td>When I first popped in Happy Birthday to Me, I...</td>\n",
       "      <td>neg</td>\n",
       "    </tr>\n",
       "    <tr>\n",
       "      <th>24999</th>\n",
       "      <td>So why does this show suck? Unfortunately, tha...</td>\n",
       "      <td>neg</td>\n",
       "    </tr>\n",
       "  </tbody>\n",
       "</table>\n",
       "<p>25000 rows × 2 columns</p>\n",
       "</div>"
      ],
      "text/plain": [
       "                                                 Reviews Sentiment\n",
       "0      When I first tuned in on this morning news, I ...       neg\n",
       "1      Mere thoughts of \"Going Overboard\" (aka \"Babes...       neg\n",
       "2      Why does this movie fall WELL below standards?...       neg\n",
       "3      Wow and I thought that any Steven Segal movie ...       neg\n",
       "4      The story is seen before, but that does'n matt...       neg\n",
       "...                                                  ...       ...\n",
       "24995  Everyone plays their part pretty well in this ...       pos\n",
       "24996  It happened with Assault on Prescient 13 in 20...       neg\n",
       "24997  My God. This movie was awful. I can't complain...       neg\n",
       "24998  When I first popped in Happy Birthday to Me, I...       neg\n",
       "24999  So why does this show suck? Unfortunately, tha...       neg\n",
       "\n",
       "[25000 rows x 2 columns]"
      ]
     },
     "execution_count": 6,
     "metadata": {},
     "output_type": "execute_result"
    }
   ],
   "source": [
    "df = pd.read_excel('train.xlsx')\n",
    "df"
   ]
  },
  {
   "cell_type": "code",
   "execution_count": 7,
   "id": "4336229d-c4dd-4976-81dc-8d89b6d46a33",
   "metadata": {},
   "outputs": [],
   "source": [
    "def get_clean(x):\n",
    "    x = str(x).lower().replace('\\\\', '').replace('_', ' ')\n",
    "    x = ps.cont_exp(x)\n",
    "    x = ps.remove_emails(x)\n",
    "    x = ps.remove_urls(x)\n",
    "    x = ps.remove_html_tags(x)\n",
    "    x = ps.remove_rt(x)\n",
    "    x = ps.remove_accented_chars(x)\n",
    "    x = ps.remove_special_chars(x)\n",
    "    x = re.sub(\"(.)\\\\1{2,}\", \"\\\\1\", x)\n",
    "    return x"
   ]
  },
  {
   "cell_type": "code",
   "execution_count": 8,
   "id": "0ddcb4ad-bc06-482b-8867-5a1c457a9acf",
   "metadata": {},
   "outputs": [
    {
     "ename": "NameError",
     "evalue": "name 'df_train' is not defined",
     "output_type": "error",
     "traceback": [
      "\u001b[1;31m---------------------------------------------------------------------------\u001b[0m",
      "\u001b[1;31mNameError\u001b[0m                                 Traceback (most recent call last)",
      "\u001b[1;32m<ipython-input-8-b7279a98adf4>\u001b[0m in \u001b[0;36m<module>\u001b[1;34m\u001b[0m\n\u001b[1;32m----> 1\u001b[1;33m \u001b[0mdf_train\u001b[0m\u001b[1;33m.\u001b[0m\u001b[0mReviews\u001b[0m \u001b[1;33m=\u001b[0m \u001b[0mdf_train\u001b[0m\u001b[1;33m.\u001b[0m\u001b[0mReviews\u001b[0m\u001b[1;33m.\u001b[0m\u001b[0mapply\u001b[0m\u001b[1;33m(\u001b[0m\u001b[1;32mlambda\u001b[0m \u001b[0mx\u001b[0m\u001b[1;33m:\u001b[0m \u001b[0mget_clean\u001b[0m\u001b[1;33m(\u001b[0m\u001b[0mx\u001b[0m\u001b[1;33m)\u001b[0m\u001b[1;33m)\u001b[0m\u001b[1;33m\u001b[0m\u001b[1;33m\u001b[0m\u001b[0m\n\u001b[0m",
      "\u001b[1;31mNameError\u001b[0m: name 'df_train' is not defined"
     ]
    }
   ],
   "source": [
    "df_train.Reviews = df_train.Reviews.apply(lambda x: get_clean(x))"
   ]
  },
  {
   "cell_type": "code",
   "execution_count": null,
   "id": "a9dcf5e3-4fc7-4a40-b3e1-d655cb9ed70b",
   "metadata": {},
   "outputs": [],
   "source": [
    "df_train"
   ]
  },
  {
   "cell_type": "markdown",
   "id": "1721aad6-1db8-4f97-a3fc-3c37916cc549",
   "metadata": {},
   "source": [
    "### TFIDF  = term frequency–inverse document frequency"
   ]
  },
  {
   "cell_type": "markdown",
   "id": "efd8d637-c208-4f3a-9307-67f2a47825a2",
   "metadata": {},
   "source": [
    "# Preprocessing"
   ]
  },
  {
   "cell_type": "code",
   "execution_count": 21,
   "id": "86b90616-7115-45c2-bf1c-1986329b8e0c",
   "metadata": {},
   "outputs": [],
   "source": [
    "from sklearn.feature_extraction.text import TfidfVectorizer\n",
    "from sklearn.model_selection import train_test_split\n",
    "from sklearn.metrics import classification_report, accuracy_score, confusion_matrix\n",
    "import preprocess_kgptalkie as ps  # import the cleaning package"
   ]
  },
  {
   "cell_type": "markdown",
   "id": "7b63de3e-3b53-4b00-a4eb-6fe7b71277f2",
   "metadata": {},
   "source": [
    "## Removing stopwords"
   ]
  },
  {
   "cell_type": "code",
   "execution_count": null,
   "id": "550e1c59-7ac1-477e-b9d9-2fb3bd7622a5",
   "metadata": {},
   "outputs": [],
   "source": [
    "# removing stopword\n",
    "stopwords = list(stopwords)\n",
    "df.Reviews = df.Reviews.apply(lambda x: [item for item in x if item not in stopwords])"
   ]
  },
  {
   "cell_type": "code",
   "execution_count": 9,
   "id": "627a222d-04b2-4423-a706-3a8efca9521b",
   "metadata": {},
   "outputs": [
    {
     "data": {
      "text/plain": [
       "0        When I first tuned in on this morning news, I ...\n",
       "1        Mere thoughts of \"Going Overboard\" (aka \"Babes...\n",
       "2        Why does this movie fall WELL below standards?...\n",
       "3        Wow and I thought that any Steven Segal movie ...\n",
       "4        The story is seen before, but that does'n matt...\n",
       "                               ...                        \n",
       "24995    Everyone plays their part pretty well in this ...\n",
       "24996    It happened with Assault on Prescient 13 in 20...\n",
       "24997    My God. This movie was awful. I can't complain...\n",
       "24998    When I first popped in Happy Birthday to Me, I...\n",
       "24999    So why does this show suck? Unfortunately, tha...\n",
       "Name: Reviews, Length: 25000, dtype: object"
      ]
     },
     "execution_count": 9,
     "metadata": {},
     "output_type": "execute_result"
    }
   ],
   "source": [
    "df.Reviews"
   ]
  },
  {
   "cell_type": "markdown",
   "id": "f5e0a3ca-7a9d-4c0d-b7b3-c1a610fe6234",
   "metadata": {},
   "source": [
    "# Cleaning the texts of special characters"
   ]
  },
  {
   "cell_type": "code",
   "execution_count": 11,
   "id": "98f232c1-ec27-4af4-a56f-65fcbc4cafab",
   "metadata": {},
   "outputs": [],
   "source": [
    "import preprocess_kgptalkie as ps  # import the cleaning package\n",
    "import re # regular expression\n",
    "\n",
    "def get_clean(x):\n",
    "    x = str(x).lower().replace('\\\\', '').replace('_', ' ')\n",
    "    x = ps.cont_exp(x)\n",
    "    x = ps.remove_emails(x)\n",
    "    x = ps.remove_urls(x)\n",
    "    x = ps.remove_html_tags(x)\n",
    "    x = ps.remove_rt(x)\n",
    "    x = ps.remove_accented_chars(x)\n",
    "    x = ps.remove_special_chars(x)\n",
    "    x = re.sub(\"(.)\\\\1{2,}\", \"\\\\1\", x)\n",
    "    return x"
   ]
  },
  {
   "cell_type": "code",
   "execution_count": 12,
   "id": "d0457cf4-7642-4eae-b85e-41f708fe3023",
   "metadata": {},
   "outputs": [],
   "source": [
    "# loading spacy for stop word removal\n",
    "en = spacy.load('en_core_web_sm')\n",
    "stopwords = en.Defaults.stop_words"
   ]
  },
  {
   "cell_type": "code",
   "execution_count": 13,
   "id": "0545f9fb-0202-420d-b9cc-442b9b70af11",
   "metadata": {},
   "outputs": [],
   "source": [
    "df.Reviews = df.Reviews.apply(lambda x: get_clean(x))"
   ]
  },
  {
   "cell_type": "code",
   "execution_count": 14,
   "id": "f5a7484e-df49-441a-8fe3-767112f3998d",
   "metadata": {},
   "outputs": [
    {
     "data": {
      "text/plain": [
       "0        when i first tuned in on this morning news i t...\n",
       "1        mere thoughts of going overboard aka babes aho...\n",
       "2        why does this movie fall well below standards ...\n",
       "3        wow and i thought that any steven segal movie ...\n",
       "4        the story is seen before but that doesand matt...\n",
       "                               ...                        \n",
       "24995    everyone plays their part pretty well in this ...\n",
       "24996    it happened with assault on prescient 13 in 20...\n",
       "24997    my god this movie was awful i cannot complain ...\n",
       "24998    when i first popped in happy birthday to me i ...\n",
       "24999    so why does this show suck unfortunately that ...\n",
       "Name: Reviews, Length: 25000, dtype: object"
      ]
     },
     "execution_count": 14,
     "metadata": {},
     "output_type": "execute_result"
    }
   ],
   "source": [
    "df.Reviews"
   ]
  },
  {
   "cell_type": "code",
   "execution_count": null,
   "id": "a82f3975-0616-454f-b946-e0e054063e7e",
   "metadata": {},
   "outputs": [],
   "source": []
  },
  {
   "cell_type": "markdown",
   "id": "1d3b11b2-633d-4f72-aa9e-855211815d09",
   "metadata": {
    "tags": []
   },
   "source": [
    "# Converting the text into numeric"
   ]
  },
  {
   "cell_type": "code",
   "execution_count": 22,
   "id": "b5a71eac-1dac-48c6-bfba-14f4c4d2de36",
   "metadata": {},
   "outputs": [],
   "source": [
    "tfidf = TfidfVectorizer(max_features = 5000, ngram_range =(1,2))"
   ]
  },
  {
   "cell_type": "code",
   "execution_count": 23,
   "id": "fa810367-2de6-470d-b723-9b9a94f87e40",
   "metadata": {},
   "outputs": [],
   "source": [
    "X = df['Reviews']\n",
    "y = df['Sentiment']"
   ]
  },
  {
   "cell_type": "code",
   "execution_count": 24,
   "id": "e02c09dc-3465-49f4-a5c1-9cda00b84eb8",
   "metadata": {},
   "outputs": [],
   "source": [
    "# tranforming data to sparse matrix\n",
    "X = tfidf.fit_transform(X)"
   ]
  },
  {
   "cell_type": "code",
   "execution_count": 25,
   "id": "a4c6dbc3-6dc5-46f5-a5dc-edd62c70ca8f",
   "metadata": {},
   "outputs": [],
   "source": [
    "X_train, X_test,y_train, y_test = train_test_split(X, y, test_size = 0.2, random_state = 42 )"
   ]
  },
  {
   "cell_type": "markdown",
   "id": "c3927bb3-0884-447d-8ca7-74843a626c03",
   "metadata": {},
   "source": [
    "# Instantiating or fitting the model"
   ]
  },
  {
   "cell_type": "code",
   "execution_count": 27,
   "id": "bf06a995-d469-498c-9ec6-ce5b0d792fb4",
   "metadata": {},
   "outputs": [
    {
     "name": "stdout",
     "output_type": "stream",
     "text": [
      "{'C': 1.0, 'class_weight': None, 'dual': True, 'fit_intercept': True, 'intercept_scaling': 1, 'loss': 'squared_hinge', 'max_iter': 1000, 'multi_class': 'ovr', 'penalty': 'l2', 'random_state': None, 'tol': 0.0001, 'verbose': 0}\n"
     ]
    }
   ],
   "source": [
    "from sklearn.svm import LinearSVC\n",
    "clf = LinearSVC()\n",
    "clf.fit(X_train, y_train)\n",
    "print(clf.get_params())"
   ]
  },
  {
   "cell_type": "markdown",
   "id": "d0c4148f-ed3e-47bd-b631-fbffb3500973",
   "metadata": {},
   "source": [
    "# Testing the Model"
   ]
  },
  {
   "cell_type": "code",
   "execution_count": 28,
   "id": "5bfc9653-4f29-46ea-813c-a7017a24b606",
   "metadata": {},
   "outputs": [],
   "source": [
    "y_pred = clf.predict(X_test)"
   ]
  },
  {
   "cell_type": "code",
   "execution_count": 29,
   "id": "2d4eccfc-6297-4aee-9adb-faad183cd70f",
   "metadata": {},
   "outputs": [
    {
     "data": {
      "text/plain": [
       "array(['pos', 'pos', 'neg', ..., 'neg', 'neg', 'pos'], dtype=object)"
      ]
     },
     "execution_count": 29,
     "metadata": {},
     "output_type": "execute_result"
    }
   ],
   "source": [
    "y_pred"
   ]
  },
  {
   "cell_type": "markdown",
   "id": "10dab064-4c70-40b8-bd4e-e3b23d389ba7",
   "metadata": {},
   "source": [
    "# Classification Report"
   ]
  },
  {
   "cell_type": "code",
   "execution_count": 30,
   "id": "88b888e8-fc42-4d82-8cc8-3020b7638631",
   "metadata": {},
   "outputs": [
    {
     "name": "stdout",
     "output_type": "stream",
     "text": [
      "              precision    recall  f1-score   support\n",
      "\n",
      "         neg       0.89      0.87      0.88      2600\n",
      "         pos       0.86      0.88      0.87      2400\n",
      "\n",
      "    accuracy                           0.88      5000\n",
      "   macro avg       0.88      0.88      0.88      5000\n",
      "weighted avg       0.88      0.88      0.88      5000\n",
      "\n"
     ]
    }
   ],
   "source": [
    "print( classification_report (y_test, y_pred))"
   ]
  },
  {
   "cell_type": "markdown",
   "id": "2ca158b5-2ce0-4353-b190-4c2c7cb3944c",
   "metadata": {},
   "source": [
    "# Confusion matrix"
   ]
  },
  {
   "cell_type": "code",
   "execution_count": 31,
   "id": "4591ec74-a78b-48c4-a8fd-e4a2284041a7",
   "metadata": {},
   "outputs": [],
   "source": [
    "confusion = confusion_matrix(y_test, y_pred)\n",
    "FN = confusion[1][0]\n",
    "TN = confusion[0][0]\n",
    "TP = confusion[1][1]\n",
    "FP = confusion[0][1]"
   ]
  },
  {
   "cell_type": "code",
   "execution_count": 32,
   "id": "5f821a32-d43d-4995-87a6-f2c4e2535eaa",
   "metadata": {},
   "outputs": [
    {
     "data": {
      "text/plain": [
       "<BarContainer object of 4 artists>"
      ]
     },
     "execution_count": 32,
     "metadata": {},
     "output_type": "execute_result"
    },
    {
     "data": {
      "image/png": "[encoded data removed]",
      "text/plain": [
       "<Figure size 432x288 with 1 Axes>"
      ]
     },
     "metadata": {
      "needs_background": "light"
     },
     "output_type": "display_data"
    }
   ],
   "source": [
    "plt.bar(['False Negative' , 'True Negative' , 'True Positive' , 'False Positive'],[FN,TN,TP,FP])"
   ]
  },
  {
   "cell_type": "markdown",
   "id": "ad038952-be6b-44dc-b3a2-832820e50673",
   "metadata": {},
   "source": [
    "# Accuracy Score"
   ]
  },
  {
   "cell_type": "code",
   "execution_count": 33,
   "id": "34f1880a-4a43-4903-9a4e-3395ed0e1a58",
   "metadata": {},
   "outputs": [
    {
     "data": {
      "text/plain": [
       "0.8764"
      ]
     },
     "execution_count": 33,
     "metadata": {},
     "output_type": "execute_result"
    }
   ],
   "source": [
    "clf.score(X_test, y_test)"
   ]
  },
  {
   "cell_type": "code",
   "execution_count": 34,
   "id": "8bfd8cd2-db4e-47be-83c6-7b2c48798cfe",
   "metadata": {},
   "outputs": [
    {
     "data": {
      "text/plain": [
       "0.8764"
      ]
     },
     "execution_count": 34,
     "metadata": {},
     "output_type": "execute_result"
    }
   ],
   "source": [
    "accuracy_score(y_test, y_pred)"
   ]
  },
  {
   "cell_type": "markdown",
   "id": "3504bcc6-6113-4929-a6e3-adebdbfbe8c1",
   "metadata": {},
   "source": [
    "# Now lets predict on the custom data set"
   ]
  },
  {
   "cell_type": "code",
   "execution_count": 35,
   "id": "2d316126-65bc-4ff1-a7a1-47a3d757eafa",
   "metadata": {},
   "outputs": [],
   "source": [
    "x = 'this movie was bad'\n",
    "x = get_clean(x)\n",
    "vec = tfidf.transform([x])"
   ]
  },
  {
   "cell_type": "code",
   "execution_count": 36,
   "id": "116fa3bc-6fe0-4896-adc1-615fd04cd5d3",
   "metadata": {},
   "outputs": [
    {
     "data": {
      "text/plain": [
       "<1x5000 sparse matrix of type '<class 'numpy.float64'>'\n",
       "\twith 7 stored elements in Compressed Sparse Row format>"
      ]
     },
     "execution_count": 36,
     "metadata": {},
     "output_type": "execute_result"
    }
   ],
   "source": [
    "vec"
   ]
  },
  {
   "cell_type": "code",
   "execution_count": 37,
   "id": "ca613420-6044-41fb-a453-b2ff8986be43",
   "metadata": {},
   "outputs": [
    {
     "data": {
      "text/plain": [
       "array(['neg'], dtype=object)"
      ]
     },
     "execution_count": 37,
     "metadata": {},
     "output_type": "execute_result"
    }
   ],
   "source": [
    "# now to test\n",
    "\n",
    "clf.predict(vec)"
   ]
  },
  {
   "cell_type": "markdown",
   "id": "3b691f01-f201-4763-90b5-f1c3cdbc1f6d",
   "metadata": {},
   "source": [
    "# Saving the model"
   ]
  },
  {
   "cell_type": "code",
   "execution_count": 38,
   "id": "b1e1f949-1c8c-4a9a-96d2-9efd51be8d94",
   "metadata": {},
   "outputs": [],
   "source": [
    "import pickle"
   ]
  },
  {
   "cell_type": "code",
   "execution_count": 39,
   "id": "92b0433a-f393-452d-8283-7b2495d5d267",
   "metadata": {},
   "outputs": [],
   "source": [
    "pickle.dump(clf, open('prediction.pkl', 'wb'))"
   ]
  },
  {
   "cell_type": "code",
   "execution_count": null,
   "id": "dedc5400-6380-46d0-a707-5c1e82777f43",
   "metadata": {},
   "outputs": [],
   "source": []
  },
  {
   "cell_type": "markdown",
   "id": "21db41f8-0e18-4aeb-bbd0-b8e1a5eec35d",
   "metadata": {},
   "source": [
    "# Loading the model"
   ]
  },
  {
   "cell_type": "code",
   "execution_count": 40,
   "id": "df3b4a61-734c-475a-a3f5-6d560c482d22",
   "metadata": {},
   "outputs": [],
   "source": [
    "loaded_model = pickle.load(open('prediction.pkl', 'rb'))"
   ]
  },
  {
   "cell_type": "code",
   "execution_count": 41,
   "id": "535b143a-183b-4914-981e-d171dc971f44",
   "metadata": {},
   "outputs": [],
   "source": [
    "df_test = pd.read_excel('test.xlsx')"
   ]
  },
  {
   "cell_type": "markdown",
   "id": "d80930d3-3fcd-496a-a05c-b689ce94d712",
   "metadata": {},
   "source": [
    "# Testing the model on a new dataset"
   ]
  },
  {
   "cell_type": "code",
   "execution_count": 42,
   "id": "5765ce6d-8b3c-4631-8463-ca7db9d4dd70",
   "metadata": {},
   "outputs": [
    {
     "data": {
      "text/html": [
       "<div>\n",
       "<style scoped>\n",
       "    .dataframe tbody tr th:only-of-type {\n",
       "        vertical-align: middle;\n",
       "    }\n",
       "\n",
       "    .dataframe tbody tr th {\n",
       "        vertical-align: top;\n",
       "    }\n",
       "\n",
       "    .dataframe thead th {\n",
       "        text-align: right;\n",
       "    }\n",
       "</style>\n",
       "<table border=\"1\" class=\"dataframe\">\n",
       "  <thead>\n",
       "    <tr style=\"text-align: right;\">\n",
       "      <th></th>\n",
       "      <th>Reviews</th>\n",
       "      <th>Sentiment</th>\n",
       "    </tr>\n",
       "  </thead>\n",
       "  <tbody>\n",
       "    <tr>\n",
       "      <th>0</th>\n",
       "      <td>Who would have thought that a movie about a ma...</td>\n",
       "      <td>pos</td>\n",
       "    </tr>\n",
       "    <tr>\n",
       "      <th>1</th>\n",
       "      <td>After realizing what is going on around us ......</td>\n",
       "      <td>pos</td>\n",
       "    </tr>\n",
       "    <tr>\n",
       "      <th>2</th>\n",
       "      <td>I grew up watching the original Disney Cindere...</td>\n",
       "      <td>neg</td>\n",
       "    </tr>\n",
       "    <tr>\n",
       "      <th>3</th>\n",
       "      <td>David Mamet wrote the screenplay and made his ...</td>\n",
       "      <td>pos</td>\n",
       "    </tr>\n",
       "    <tr>\n",
       "      <th>4</th>\n",
       "      <td>Admittedly, I didn't have high expectations of...</td>\n",
       "      <td>neg</td>\n",
       "    </tr>\n",
       "  </tbody>\n",
       "</table>\n",
       "</div>"
      ],
      "text/plain": [
       "                                             Reviews Sentiment\n",
       "0  Who would have thought that a movie about a ma...       pos\n",
       "1  After realizing what is going on around us ......       pos\n",
       "2  I grew up watching the original Disney Cindere...       neg\n",
       "3  David Mamet wrote the screenplay and made his ...       pos\n",
       "4  Admittedly, I didn't have high expectations of...       neg"
      ]
     },
     "execution_count": 42,
     "metadata": {},
     "output_type": "execute_result"
    }
   ],
   "source": [
    "df_test[:5]"
   ]
  },
  {
   "cell_type": "markdown",
   "id": "de17ae89-74fd-4b7e-9dcd-e9bf084149c6",
   "metadata": {},
   "source": [
    "# Preprocesisng to clean the model"
   ]
  },
  {
   "cell_type": "code",
   "execution_count": null,
   "id": "6d3ee769-bc1a-486a-80ba-ce8b1e63d231",
   "metadata": {},
   "outputs": [],
   "source": [
    "# lets clean thew review column and appy get_clean\n",
    "df_test['Reviews'] = df_test['Reviews'].apply(lambda x: get_clean(x))\n"
   ]
  },
  {
   "cell_type": "code",
   "execution_count": null,
   "id": "e06fed95-9776-43cc-a640-b446cc1b1197",
   "metadata": {},
   "outputs": [],
   "source": [
    "reviews = df_test['Reviews']"
   ]
  },
  {
   "cell_type": "markdown",
   "id": "4005f529-d8ec-42b9-b63f-1d388141c082",
   "metadata": {},
   "source": [
    "# Transforming the model"
   ]
  },
  {
   "cell_type": "code",
   "execution_count": null,
   "id": "564b9fc4-5f23-43a2-b1b3-97f10785a131",
   "metadata": {},
   "outputs": [],
   "source": [
    "testing = tfidf.fit_transform(reviews)"
   ]
  },
  {
   "cell_type": "code",
   "execution_count": null,
   "id": "33e9f5ce-1143-400b-9d51-244a509673ce",
   "metadata": {},
   "outputs": [],
   "source": [
    "testing"
   ]
  },
  {
   "cell_type": "code",
   "execution_count": null,
   "id": "63e0ef14-30bc-4137-80fb-68582db22a5b",
   "metadata": {},
   "outputs": [],
   "source": [
    "testing_pred = loaded_model.predict(testing)"
   ]
  },
  {
   "cell_type": "code",
   "execution_count": null,
   "id": "4a58b09b-0413-4b89-919c-ca366bd30973",
   "metadata": {},
   "outputs": [],
   "source": [
    "df_testing = pd.DataFrame(testing_pred, columns = ['Predicted_Sentiment'])\n",
    "df_testing.head()   "
   ]
  },
  {
   "cell_type": "markdown",
   "id": "bb536c3a-d0e2-4ab8-b728-fd97d8ed219b",
   "metadata": {},
   "source": [
    "# Concat the dataset with predicted model"
   ]
  },
  {
   "cell_type": "code",
   "execution_count": null,
   "id": "872f45c9-6d77-4347-b268-0bae7dc777fa",
   "metadata": {},
   "outputs": [],
   "source": [
    "testing_dataset = pd.concat([df_test, df_testing], ignore_index = False, axis =1)"
   ]
  },
  {
   "cell_type": "code",
   "execution_count": null,
   "id": "d133a096-8d60-475e-8034-c02fea95d28a",
   "metadata": {},
   "outputs": [],
   "source": [
    "testing_dataset.head()"
   ]
  },
  {
   "cell_type": "code",
   "execution_count": null,
   "id": "c4563971-494a-4e94-94fe-d0443db56bf6",
   "metadata": {},
   "outputs": [],
   "source": [
    "original = testing_dataset.Sentiment.value_counts()"
   ]
  },
  {
   "cell_type": "code",
   "execution_count": null,
   "id": "ef3b0326-ad95-4401-904c-79057269e0db",
   "metadata": {},
   "outputs": [],
   "source": [
    "predicted = testing_dataset.Predicted_Sentiment.value_counts()"
   ]
  },
  {
   "cell_type": "code",
   "execution_count": null,
   "id": "c9db1318-950d-4631-b2db-e872a7e9af14",
   "metadata": {},
   "outputs": [],
   "source": [
    "conc = pd.concat ([original,predicted], axis = 1)"
   ]
  },
  {
   "cell_type": "code",
   "execution_count": null,
   "id": "b9c14a29-96ca-4bd3-8c99-2d6730bab00e",
   "metadata": {},
   "outputs": [],
   "source": [
    "conc"
   ]
  },
  {
   "cell_type": "code",
   "execution_count": null,
   "id": "d82221a2-5bd2-4c14-a752-98eff8f70822",
   "metadata": {},
   "outputs": [],
   "source": [
    "fig,ax = plt.subplots(figsize = (10,4))\n",
    "conc.plot(kind ='bar', ax= ax)\n"
   ]
  },
  {
   "cell_type": "code",
   "execution_count": null,
   "id": "b384094f-b921-476b-b045-fdbb567b7167",
   "metadata": {},
   "outputs": [],
   "source": []
  }
 ],
 "metadata": {
  "kernelspec": {
   "display_name": "Python 3",
   "language": "python",
   "name": "python3"
  },
  "language_info": {
   "codemirror_mode": {
    "name": "ipython",
    "version": 3
   },
   "file_extension": ".py",
   "mimetype": "text/x-python",
   "name": "python",
   "nbconvert_exporter": "python",
   "pygments_lexer": "ipython3",
   "version": "3.8.8"
  }
 },
 "nbformat": 4,
 "nbformat_minor": 5
}
